{
 "cells": [
  {
   "cell_type": "markdown",
   "metadata": {},
   "source": [
    "# 1.导入相关库"
   ]
  },
  {
   "cell_type": "code",
   "execution_count": 5,
   "metadata": {},
   "outputs": [],
   "source": [
    "import tensorflow as tf\n",
    "import numpy as np\n",
    "import pandas as pd\n",
    "import operator\n",
    "from sklearn.model_selection import RepeatedKFold"
   ]
  },
  {
   "cell_type": "markdown",
   "metadata": {},
   "source": [
    "# 2.下载数据集"
   ]
  },
  {
   "cell_type": "code",
   "execution_count": 2,
   "metadata": {},
   "outputs": [],
   "source": [
    "data_URL = 'http://archive.ics.uci.edu/ml/machine-learning-databases/iris/iris.data'\n",
    "CSV_COLUMN_NAMES = ['SepalLength', 'SepalWidth', 'PetalLength', 'PetalWidth', 'Species']\n",
    "\n",
    "def load_data(label_name):\n",
    "    #创造一个本地数据集复样本\n",
    "    data_path = tf.keras.utils.get_file(fname = data_URL.split('/')[-1], origin = data_URL)\n",
    "    #转化为本地CSV文件\n",
    "    data = pd.read_csv(filepath_or_buffer = data_path,  \n",
    "                        names = CSV_COLUMN_NAMES,  # list of column names  \n",
    "                        header = -1  # ignore the first row of the CSV file.  \n",
    "                       )\n",
    "    data_features, data_label = data, data.pop(label_name)\n",
    "    return (data_features, data_label)\n",
    "\n",
    "(data_feature, data_label) = load_data('Species')\n",
    "feature = np.array(data_feature)\n",
    "label = np.array(data_label)"
   ]
  },
  {
   "cell_type": "markdown",
   "metadata": {},
   "source": [
    "# 3.使用TensorFlow设计K近邻模型"
   ]
  },
  {
   "cell_type": "code",
   "execution_count": 6,
   "metadata": {},
   "outputs": [],
   "source": [
    "#设计KNN模型\n",
    "def KNN_classifier(X_train, X_test, Y_train, Y_test, K, dims, dist_metric = 'L1'):\n",
    "    # 计算图输入占位符\n",
    "    xtrain = tf.placeholder(tf.float32)\n",
    "    xtest = tf.placeholder(tf.float32)\n",
    "    #print('Xtrain.shape: ', X_train.shape, ', X_val.shape: ',X_val.shape)\n",
    "    #print('Ytrain.shape: ', Y_train.shape, ', Y_val.shape: ',Y_val.shape)\n",
    "    # 使用 L1 距离进行最近邻计算\n",
    "    # L1：dist = sum(|X1-X2|)  或 L2：dist=sqrt(sum(|X1-X2|^2))\n",
    "    dist = tf.reduce_sum(tf.abs(tf.subtract(xtrain, xtest)), axis=1)\n",
    "    #index = tf.arg_min(dist,0)\n",
    "    if K is None:\n",
    "        dim = tf.size(tf.shape(dist))#矩阵元素的个数\n",
    "        if dim == 1:\n",
    "            K = tf.shape(dist)[0]\n",
    "        elif dim == 2:\n",
    "            K = tf.shape(dist)[1]\n",
    "        else:\n",
    "            K = tf.shape(dist)[-1]\n",
    "    # 从小到大排序，取前K个最小的\n",
    "    value, index = tf.nn.top_k(-dist, k = K)\n",
    "    value = -value\n",
    "    # 初始化所有变量\n",
    "    init = tf.global_variables_initializer()\n",
    "    #定义一个正确率计算器\n",
    "    Accuracy = 0 \n",
    "\n",
    "    #执行会话\n",
    "    with tf.Session() as sess:\n",
    "        sess.run(init)\n",
    "        # 只能循环地对测试样本进行预测\n",
    "        for i in range(len(X_test)):\n",
    "            idx = sess.run(index, feed_dict = {xtrain:X_train, xtest:X_test[i, :]})\n",
    "            labelCount = {};\n",
    "            for j in idx:\n",
    "                tempLabel = Y_train[j];\n",
    "                labelCount[tempLabel] = labelCount.get(tempLabel, 0) + 1;\n",
    "                sortedCount = sorted(labelCount.items(), key = operator.itemgetter(1), reverse = True);\n",
    "                #operator.itemgetter(1)意思是按照value值排序，即按照欧氏距离排序\n",
    "            #return sortedCount[0][0]\n",
    "            Predict_label = sortedCount[0][0];#输出标签出现最多的那个\n",
    "            # 计算预测标签和正确标签用于比较\n",
    "            #Klabels = np.argmax(Y_train[idx], axis = 0)  #统计K行01标签中为1的下标\n",
    "            #print(Klabels)\n",
    "            #Predict_label = np.argmax(np.bincount(Klabels))\n",
    "            #统计下标数组中出现次数最多的值\n",
    "            #print(Y_train[idx],'\\n',Klabels,'\\n',Predict_label)\n",
    "            True_label = Y_test[i]\n",
    "            #print(\"Test Sample\", i, \"Prediction label:\", Predict_label, \"True Class label:\", True_label)\n",
    "            # 计算精确度\n",
    "            if Predict_label == True_label:\n",
    "                Accuracy += 1\n",
    "        Accuracy = Accuracy/len(X_test)\n",
    "        #print(\"K值为\",K,\"Accuracy=\",(Accuracy/len(X_test)))\n",
    "    return Accuracy "
   ]
  },
  {
   "cell_type": "markdown",
   "metadata": {},
   "source": [
    "# 4.训练模型"
   ]
  },
  {
   "cell_type": "code",
   "execution_count": 7,
   "metadata": {},
   "outputs": [
    {
     "name": "stdout",
     "output_type": "stream",
     "text": [
      "K = 7,accuracy = 0.77\n"
     ]
    }
   ],
   "source": [
    "#将所有数据分为训练集和测试集\n",
    "ratio = 0.8\n",
    "num_example = feature.shape[0]\n",
    "s = np.int(num_example * ratio)\n",
    "X_train = feature[:s]\n",
    "Y_train = label[:s]\n",
    "X_test = feature[s:]\n",
    "Y_test = label[s:]\n",
    "accuracy = KNN_classifier(X_train, X_test, Y_train, Y_test, K = 7, dims = 5, dist_metric = 'L1')\n",
    "print('K = %d,accuracy = %.2f' %(7,accuracy))   "
   ]
  },
  {
   "cell_type": "markdown",
   "metadata": {},
   "source": [
    "# 5.验证模型"
   ]
  },
  {
   "cell_type": "code",
   "execution_count": 15,
   "metadata": {},
   "outputs": [
    {
     "name": "stdout",
     "output_type": "stream",
     "text": [
      "K = 1,accuracy = 90.7%\n",
      "K = 2,accuracy = 92.7%\n",
      "K = 4,accuracy = 93.3%\n",
      "K = 5,accuracy = 92.0%\n",
      "K = 7,accuracy = 92.0%\n",
      "K = 8,accuracy = 92.7%\n",
      "K = 9,accuracy = 92.0%\n",
      "K = 10,accuracy = 92.0%\n",
      "K = 15,accuracy = 90.7%\n",
      "K = 20,accuracy = 88.7%\n",
      "最优K值为： 4\n"
     ]
    }
   ],
   "source": [
    "#验证集调参\n",
    "folds = 5\n",
    "X_folds = []\n",
    "y_folds = []\n",
    " \n",
    "X_folds = np.split(feature,folds)\n",
    "y_folds = np.split(label,folds)\n",
    "\n",
    "K_choices = [1, 2, 4, 5, 7, 8, 9, 10, 15, 20]\n",
    "accuracy_of_K = {}\n",
    "for k in K_choices:\n",
    "    accuracy_of_K[k] = []\n",
    "    \n",
    "    \n",
    "for i in range(folds):\n",
    "    X_train = np.vstack(X_folds[:i] + X_folds[i+1:])\n",
    "    X_val = X_folds[i]\n",
    "    y_train = np.hstack(y_folds[:i] + y_folds[i+1:])\n",
    "    y_val = y_folds[i]\n",
    "    for k in K_choices:\n",
    "        accuracy = KNN_classifier(X_train, X_val, y_train, y_val, K = k, dims = 5, dist_metric = 'L1')\n",
    "        accuracy_of_K[k].append(accuracy)\n",
    "\n",
    "\n",
    "results = []\n",
    "K_best = []\n",
    "for k in sorted(K_choices):\n",
    "    accuracy_of_K[k] = np.array(accuracy_of_K[k])\n",
    "    accuracy = np.sum(accuracy_of_K[k])\n",
    "    accuracy = accuracy / 5\n",
    "    results.append(accuracy)\n",
    "    print('K = %d,accuracy = %.1f%%' %(k,accuracy*100))\n",
    "\n",
    "acc = max(results)\n",
    "for i in range(10):\n",
    "    if results[i] == acc:\n",
    "        K_best.append(K_choices[i])\n",
    "        \n",
    "for i in range(len(K_best)):\n",
    "    print('最优K值为：', K_best[i])"
   ]
  },
  {
   "cell_type": "code",
   "execution_count": null,
   "metadata": {},
   "outputs": [],
   "source": []
  },
  {
   "cell_type": "code",
   "execution_count": null,
   "metadata": {},
   "outputs": [],
   "source": []
  },
  {
   "cell_type": "code",
   "execution_count": null,
   "metadata": {},
   "outputs": [],
   "source": []
  }
 ],
 "metadata": {
  "kernelspec": {
   "display_name": "Python 3",
   "language": "python",
   "name": "python3"
  },
  "language_info": {
   "codemirror_mode": {
    "name": "ipython",
    "version": 3
   },
   "file_extension": ".py",
   "mimetype": "text/x-python",
   "name": "python",
   "nbconvert_exporter": "python",
   "pygments_lexer": "ipython3",
   "version": "3.5.2"
  }
 },
 "nbformat": 4,
 "nbformat_minor": 2
}
